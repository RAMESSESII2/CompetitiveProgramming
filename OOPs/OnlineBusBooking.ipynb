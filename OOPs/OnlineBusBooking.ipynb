{
 "cells": [
  {
   "cell_type": "code",
   "execution_count": 28,
   "id": "caroline-daniel",
   "metadata": {},
   "outputs": [],
   "source": [
    "class Ticket:\n",
    "    counter = 0\n",
    "    def __init__(self, source, destination):\n",
    "        self.source = source\n",
    "        self.destination = destination\n",
    "        self.ticket_id = None\n",
    "\n",
    "    def validate_source_destination(self):\n",
    "        so = self.source\n",
    "        de = self.destination\n",
    "        if so!=\"Delhi\":\n",
    "            return False\n",
    "        if de not in [\"Mumbai\", \"Chennai\", \"Pune\", \"Kolkata\"]:\n",
    "            return False\n",
    "        return True\n",
    "    \n",
    "    \n",
    "    def generate_ticket(self):\n",
    "        \n",
    "        if self.validate_source_destination():\n",
    "            Ticket.counter += 1\n",
    "            counter = Ticket.counter \n",
    "            self.ticket_id = self.source[0] + self.destination[0] + ( (\"0\"+ str(counter)) if len(str(counter)) == 1 else str(counter))\n",
    "\n",
    "        return self.ticket_id"
   ]
  },
  {
   "cell_type": "code",
   "execution_count": 29,
   "id": "funky-valley",
   "metadata": {},
   "outputs": [],
   "source": [
    "f = Ticket(\"Delhi\", \"Kolkata\")\n"
   ]
  },
  {
   "cell_type": "code",
   "execution_count": 30,
   "id": "spectacular-hawaiian",
   "metadata": {},
   "outputs": [
    {
     "data": {
      "text/plain": [
       "True"
      ]
     },
     "execution_count": 30,
     "metadata": {},
     "output_type": "execute_result"
    }
   ],
   "source": [
    "f.validate_source_destination()\n"
   ]
  },
  {
   "cell_type": "code",
   "execution_count": 31,
   "id": "nonprofit-ancient",
   "metadata": {},
   "outputs": [
    {
     "data": {
      "text/plain": [
       "'DK01'"
      ]
     },
     "execution_count": 31,
     "metadata": {},
     "output_type": "execute_result"
    }
   ],
   "source": [
    "f.generate_ticket()\n"
   ]
  },
  {
   "cell_type": "code",
   "execution_count": 32,
   "id": "respected-automation",
   "metadata": {},
   "outputs": [],
   "source": [
    "g = Ticket(\"Delhi\", \"Kolkata\")"
   ]
  },
  {
   "cell_type": "code",
   "execution_count": 33,
   "id": "developed-theology",
   "metadata": {},
   "outputs": [
    {
     "data": {
      "text/plain": [
       "'DK02'"
      ]
     },
     "execution_count": 33,
     "metadata": {},
     "output_type": "execute_result"
    }
   ],
   "source": [
    "g.generate_ticket()"
   ]
  },
  {
   "cell_type": "code",
   "execution_count": 34,
   "id": "sorted-quantum",
   "metadata": {},
   "outputs": [],
   "source": [
    "h = Ticket(\"Delhi\", \"Noid\")"
   ]
  },
  {
   "cell_type": "code",
   "execution_count": 35,
   "id": "synthetic-greensboro",
   "metadata": {},
   "outputs": [
    {
     "data": {
      "text/plain": [
       "<__main__.Ticket at 0x7f61acbdf9d0>"
      ]
     },
     "execution_count": 35,
     "metadata": {},
     "output_type": "execute_result"
    }
   ],
   "source": [
    "h\n"
   ]
  },
  {
   "cell_type": "code",
   "execution_count": 36,
   "id": "global-commerce",
   "metadata": {},
   "outputs": [],
   "source": [
    "h.generate_ticket()\n"
   ]
  },
  {
   "cell_type": "code",
   "execution_count": null,
   "id": "thrown-magazine",
   "metadata": {},
   "outputs": [],
   "source": []
  }
 ],
 "metadata": {
  "kernelspec": {
   "display_name": "Python 3",
   "language": "python",
   "name": "python3"
  },
  "language_info": {
   "codemirror_mode": {
    "name": "ipython",
    "version": 3
   },
   "file_extension": ".py",
   "mimetype": "text/x-python",
   "name": "python",
   "nbconvert_exporter": "python",
   "pygments_lexer": "ipython3",
   "version": "3.8.8"
  }
 },
 "nbformat": 4,
 "nbformat_minor": 5
}
